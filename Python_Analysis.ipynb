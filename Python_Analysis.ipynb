{
  "cells": [
    {
      "cell_type": "markdown",
      "metadata": {
        "id": "view-in-github",
        "colab_type": "text"
      },
      "source": [
        "<a href=\"https://colab.research.google.com/github/abdulrahman-hesham/ManufacturingDowntime/blob/Overview/Python_Analysis.ipynb\" target=\"_parent\"><img src=\"https://colab.research.google.com/assets/colab-badge.svg\" alt=\"Open In Colab\"/></a>"
      ]
    },
    {
      "cell_type": "markdown",
      "metadata": {
        "id": "_j4IyyGPHW9V"
      },
      "source": [
        "<div style=\"background-color: #2F4F4F; color: white; padding: 10px; text-align: center; font-size: 18px; border-radius: 8px;\">\n",
        "    <b>Import necessary libraries</b>\n",
        "</div>\n",
        "\n"
      ]
    },
    {
      "cell_type": "code",
      "execution_count": null,
      "metadata": {
        "id": "iJZasMqKHW9X"
      },
      "outputs": [],
      "source": [
        "import pandas as pd\n",
        "import matplotlib.pyplot as plt\n",
        "import seaborn as sns"
      ]
    },
    {
      "cell_type": "markdown",
      "metadata": {
        "id": "Z9_GCnvGHW9Y"
      },
      "source": [
        "\n",
        "<div style=\"background-color: #2F4F4F; color: white; padding: 10px; text-align: center; font-size: 18px; border-radius: 8px;\">\n",
        "    <b>Read the Excel file</b>\n",
        "</div>\n",
        "\n"
      ]
    },
    {
      "cell_type": "code",
      "execution_count": null,
      "metadata": {
        "id": "MIg5diieHW9Y",
        "outputId": "11d70d88-c5c7-451b-fb2a-b59205468612"
      },
      "outputs": [
        {
          "data": {
            "text/html": [
              "<div>\n",
              "<style scoped>\n",
              "    .dataframe tbody tr th:only-of-type {\n",
              "        vertical-align: middle;\n",
              "    }\n",
              "\n",
              "    .dataframe tbody tr th {\n",
              "        vertical-align: top;\n",
              "    }\n",
              "\n",
              "    .dataframe thead th {\n",
              "        text-align: right;\n",
              "    }\n",
              "</style>\n",
              "<table border=\"1\" class=\"dataframe\">\n",
              "  <thead>\n",
              "    <tr style=\"text-align: right;\">\n",
              "      <th></th>\n",
              "      <th>Date</th>\n",
              "      <th>Product</th>\n",
              "      <th>Batch</th>\n",
              "      <th>Operator</th>\n",
              "      <th>Start Time</th>\n",
              "      <th>End Time</th>\n",
              "    </tr>\n",
              "  </thead>\n",
              "  <tbody>\n",
              "    <tr>\n",
              "      <th>0</th>\n",
              "      <td>2024-08-29</td>\n",
              "      <td>OR-600</td>\n",
              "      <td>422111</td>\n",
              "      <td>Mac</td>\n",
              "      <td>11:50:00</td>\n",
              "      <td>14:05:00</td>\n",
              "    </tr>\n",
              "    <tr>\n",
              "      <th>1</th>\n",
              "      <td>2024-08-29</td>\n",
              "      <td>LE-600</td>\n",
              "      <td>422112</td>\n",
              "      <td>Mac</td>\n",
              "      <td>14:05:00</td>\n",
              "      <td>15:45:00</td>\n",
              "    </tr>\n",
              "    <tr>\n",
              "      <th>2</th>\n",
              "      <td>2024-08-29</td>\n",
              "      <td>LE-600</td>\n",
              "      <td>422113</td>\n",
              "      <td>Mac</td>\n",
              "      <td>15:45:00</td>\n",
              "      <td>17:35:00</td>\n",
              "    </tr>\n",
              "    <tr>\n",
              "      <th>3</th>\n",
              "      <td>2024-08-29</td>\n",
              "      <td>LE-600</td>\n",
              "      <td>422114</td>\n",
              "      <td>Mac</td>\n",
              "      <td>17:35:00</td>\n",
              "      <td>19:15:00</td>\n",
              "    </tr>\n",
              "    <tr>\n",
              "      <th>4</th>\n",
              "      <td>2024-08-29</td>\n",
              "      <td>LE-600</td>\n",
              "      <td>422115</td>\n",
              "      <td>Charlie</td>\n",
              "      <td>19:15:00</td>\n",
              "      <td>20:39:00</td>\n",
              "    </tr>\n",
              "    <tr>\n",
              "      <th>5</th>\n",
              "      <td>2024-08-29</td>\n",
              "      <td>LE-600</td>\n",
              "      <td>422116</td>\n",
              "      <td>Charlie</td>\n",
              "      <td>20:39:00</td>\n",
              "      <td>21:39:00</td>\n",
              "    </tr>\n",
              "    <tr>\n",
              "      <th>6</th>\n",
              "      <td>2024-08-29</td>\n",
              "      <td>LE-600</td>\n",
              "      <td>422117</td>\n",
              "      <td>Charlie</td>\n",
              "      <td>21:39:00</td>\n",
              "      <td>22:54:00</td>\n",
              "    </tr>\n",
              "    <tr>\n",
              "      <th>7</th>\n",
              "      <td>2024-08-30</td>\n",
              "      <td>CO-600</td>\n",
              "      <td>422118</td>\n",
              "      <td>Dee</td>\n",
              "      <td>04:05:00</td>\n",
              "      <td>06:05:00</td>\n",
              "    </tr>\n",
              "    <tr>\n",
              "      <th>8</th>\n",
              "      <td>2024-08-30</td>\n",
              "      <td>CO-600</td>\n",
              "      <td>422119</td>\n",
              "      <td>Dee</td>\n",
              "      <td>06:05:00</td>\n",
              "      <td>07:30:00</td>\n",
              "    </tr>\n",
              "    <tr>\n",
              "      <th>9</th>\n",
              "      <td>2024-08-30</td>\n",
              "      <td>CO-600</td>\n",
              "      <td>422120</td>\n",
              "      <td>Dee</td>\n",
              "      <td>07:30:00</td>\n",
              "      <td>09:22:00</td>\n",
              "    </tr>\n",
              "    <tr>\n",
              "      <th>10</th>\n",
              "      <td>2024-08-30</td>\n",
              "      <td>CO-600</td>\n",
              "      <td>422121</td>\n",
              "      <td>Dennis</td>\n",
              "      <td>09:22:00</td>\n",
              "      <td>10:37:00</td>\n",
              "    </tr>\n",
              "    <tr>\n",
              "      <th>11</th>\n",
              "      <td>2024-08-30</td>\n",
              "      <td>CO-600</td>\n",
              "      <td>422122</td>\n",
              "      <td>Dennis</td>\n",
              "      <td>10:37:00</td>\n",
              "      <td>12:02:00</td>\n",
              "    </tr>\n",
              "    <tr>\n",
              "      <th>12</th>\n",
              "      <td>2024-08-30</td>\n",
              "      <td>CO-600</td>\n",
              "      <td>422123</td>\n",
              "      <td>Dennis</td>\n",
              "      <td>12:02:00</td>\n",
              "      <td>14:15:00</td>\n",
              "    </tr>\n",
              "    <tr>\n",
              "      <th>13</th>\n",
              "      <td>2024-08-30</td>\n",
              "      <td>CO-600</td>\n",
              "      <td>422124</td>\n",
              "      <td>Dennis</td>\n",
              "      <td>14:15:00</td>\n",
              "      <td>15:55:00</td>\n",
              "    </tr>\n",
              "    <tr>\n",
              "      <th>14</th>\n",
              "      <td>2024-08-30</td>\n",
              "      <td>CO-600</td>\n",
              "      <td>422125</td>\n",
              "      <td>Charlie</td>\n",
              "      <td>15:55:00</td>\n",
              "      <td>17:15:00</td>\n",
              "    </tr>\n",
              "    <tr>\n",
              "      <th>15</th>\n",
              "      <td>2024-08-30</td>\n",
              "      <td>CO-600</td>\n",
              "      <td>422126</td>\n",
              "      <td>Charlie</td>\n",
              "      <td>17:15:00</td>\n",
              "      <td>18:59:00</td>\n",
              "    </tr>\n",
              "    <tr>\n",
              "      <th>16</th>\n",
              "      <td>2024-08-30</td>\n",
              "      <td>CO-600</td>\n",
              "      <td>422127</td>\n",
              "      <td>Charlie</td>\n",
              "      <td>18:59:00</td>\n",
              "      <td>20:22:00</td>\n",
              "    </tr>\n",
              "    <tr>\n",
              "      <th>17</th>\n",
              "      <td>2024-08-30</td>\n",
              "      <td>CO-600</td>\n",
              "      <td>422128</td>\n",
              "      <td>Charlie</td>\n",
              "      <td>20:22:00</td>\n",
              "      <td>22:14:00</td>\n",
              "    </tr>\n",
              "    <tr>\n",
              "      <th>18</th>\n",
              "      <td>2024-08-30</td>\n",
              "      <td>CO-600</td>\n",
              "      <td>422129</td>\n",
              "      <td>Charlie</td>\n",
              "      <td>22:14:00</td>\n",
              "      <td>23:29:00</td>\n",
              "    </tr>\n",
              "    <tr>\n",
              "      <th>19</th>\n",
              "      <td>2024-08-31</td>\n",
              "      <td>CO-600</td>\n",
              "      <td>422130</td>\n",
              "      <td>Dee</td>\n",
              "      <td>07:45:00</td>\n",
              "      <td>09:05:00</td>\n",
              "    </tr>\n",
              "    <tr>\n",
              "      <th>20</th>\n",
              "      <td>2024-08-31</td>\n",
              "      <td>CO-600</td>\n",
              "      <td>422131</td>\n",
              "      <td>Dee</td>\n",
              "      <td>09:05:00</td>\n",
              "      <td>10:35:00</td>\n",
              "    </tr>\n",
              "    <tr>\n",
              "      <th>21</th>\n",
              "      <td>2024-08-31</td>\n",
              "      <td>CO-600</td>\n",
              "      <td>422132</td>\n",
              "      <td>Dee</td>\n",
              "      <td>10:35:00</td>\n",
              "      <td>11:35:00</td>\n",
              "    </tr>\n",
              "    <tr>\n",
              "      <th>22</th>\n",
              "      <td>2024-08-31</td>\n",
              "      <td>DC-600</td>\n",
              "      <td>422133</td>\n",
              "      <td>Dee</td>\n",
              "      <td>11:35:00</td>\n",
              "      <td>12:55:00</td>\n",
              "    </tr>\n",
              "    <tr>\n",
              "      <th>23</th>\n",
              "      <td>2024-08-31</td>\n",
              "      <td>DC-600</td>\n",
              "      <td>422134</td>\n",
              "      <td>Mac</td>\n",
              "      <td>12:55:00</td>\n",
              "      <td>14:45:00</td>\n",
              "    </tr>\n",
              "    <tr>\n",
              "      <th>24</th>\n",
              "      <td>2024-08-31</td>\n",
              "      <td>DC-600</td>\n",
              "      <td>422135</td>\n",
              "      <td>Mac</td>\n",
              "      <td>14:45:00</td>\n",
              "      <td>16:30:00</td>\n",
              "    </tr>\n",
              "    <tr>\n",
              "      <th>25</th>\n",
              "      <td>2024-08-31</td>\n",
              "      <td>DC-600</td>\n",
              "      <td>422136</td>\n",
              "      <td>Mac</td>\n",
              "      <td>16:30:00</td>\n",
              "      <td>17:30:00</td>\n",
              "    </tr>\n",
              "    <tr>\n",
              "      <th>26</th>\n",
              "      <td>2024-09-02</td>\n",
              "      <td>RB-600</td>\n",
              "      <td>422137</td>\n",
              "      <td>Dee</td>\n",
              "      <td>01:00:00</td>\n",
              "      <td>02:45:00</td>\n",
              "    </tr>\n",
              "    <tr>\n",
              "      <th>27</th>\n",
              "      <td>2024-09-02</td>\n",
              "      <td>RB-600</td>\n",
              "      <td>422138</td>\n",
              "      <td>Dee</td>\n",
              "      <td>02:45:00</td>\n",
              "      <td>04:05:00</td>\n",
              "    </tr>\n",
              "    <tr>\n",
              "      <th>28</th>\n",
              "      <td>2024-09-02</td>\n",
              "      <td>RB-600</td>\n",
              "      <td>422139</td>\n",
              "      <td>Dee</td>\n",
              "      <td>04:05:00</td>\n",
              "      <td>05:40:00</td>\n",
              "    </tr>\n",
              "    <tr>\n",
              "      <th>29</th>\n",
              "      <td>2024-09-02</td>\n",
              "      <td>RB-600</td>\n",
              "      <td>422140</td>\n",
              "      <td>Dee</td>\n",
              "      <td>05:40:00</td>\n",
              "      <td>07:43:00</td>\n",
              "    </tr>\n",
              "    <tr>\n",
              "      <th>30</th>\n",
              "      <td>2024-09-02</td>\n",
              "      <td>RB-600</td>\n",
              "      <td>422141</td>\n",
              "      <td>Dennis</td>\n",
              "      <td>07:43:00</td>\n",
              "      <td>08:50:00</td>\n",
              "    </tr>\n",
              "    <tr>\n",
              "      <th>31</th>\n",
              "      <td>2024-09-02</td>\n",
              "      <td>RB-600</td>\n",
              "      <td>422142</td>\n",
              "      <td>Dennis</td>\n",
              "      <td>08:50:00</td>\n",
              "      <td>10:20:00</td>\n",
              "    </tr>\n",
              "    <tr>\n",
              "      <th>32</th>\n",
              "      <td>2024-09-02</td>\n",
              "      <td>RB-600</td>\n",
              "      <td>422143</td>\n",
              "      <td>Dennis</td>\n",
              "      <td>10:20:00</td>\n",
              "      <td>12:18:00</td>\n",
              "    </tr>\n",
              "    <tr>\n",
              "      <th>33</th>\n",
              "      <td>2024-09-02</td>\n",
              "      <td>CO-2L</td>\n",
              "      <td>422144</td>\n",
              "      <td>Dennis</td>\n",
              "      <td>12:18:00</td>\n",
              "      <td>14:50:00</td>\n",
              "    </tr>\n",
              "    <tr>\n",
              "      <th>34</th>\n",
              "      <td>2024-09-02</td>\n",
              "      <td>CO-2L</td>\n",
              "      <td>422145</td>\n",
              "      <td>Charlie</td>\n",
              "      <td>14:50:00</td>\n",
              "      <td>16:50:00</td>\n",
              "    </tr>\n",
              "    <tr>\n",
              "      <th>35</th>\n",
              "      <td>2024-09-02</td>\n",
              "      <td>CO-2L</td>\n",
              "      <td>422146</td>\n",
              "      <td>Charlie</td>\n",
              "      <td>16:50:00</td>\n",
              "      <td>19:30:00</td>\n",
              "    </tr>\n",
              "    <tr>\n",
              "      <th>36</th>\n",
              "      <td>2024-09-02</td>\n",
              "      <td>CO-2L</td>\n",
              "      <td>422147</td>\n",
              "      <td>Charlie</td>\n",
              "      <td>19:30:00</td>\n",
              "      <td>22:55:00</td>\n",
              "    </tr>\n",
              "    <tr>\n",
              "      <th>37</th>\n",
              "      <td>2024-09-03</td>\n",
              "      <td>CO-2L</td>\n",
              "      <td>422148</td>\n",
              "      <td>Mac</td>\n",
              "      <td>22:55:00</td>\n",
              "      <td>1900-01-01 01:05:00</td>\n",
              "    </tr>\n",
              "  </tbody>\n",
              "</table>\n",
              "</div>"
            ],
            "text/plain": [
              "         Date Product   Batch Operator Start Time             End Time\n",
              "0  2024-08-29  OR-600  422111      Mac   11:50:00             14:05:00\n",
              "1  2024-08-29  LE-600  422112      Mac   14:05:00             15:45:00\n",
              "2  2024-08-29  LE-600  422113      Mac   15:45:00             17:35:00\n",
              "3  2024-08-29  LE-600  422114      Mac   17:35:00             19:15:00\n",
              "4  2024-08-29  LE-600  422115  Charlie   19:15:00             20:39:00\n",
              "5  2024-08-29  LE-600  422116  Charlie   20:39:00             21:39:00\n",
              "6  2024-08-29  LE-600  422117  Charlie   21:39:00             22:54:00\n",
              "7  2024-08-30  CO-600  422118      Dee   04:05:00             06:05:00\n",
              "8  2024-08-30  CO-600  422119      Dee   06:05:00             07:30:00\n",
              "9  2024-08-30  CO-600  422120      Dee   07:30:00             09:22:00\n",
              "10 2024-08-30  CO-600  422121   Dennis   09:22:00             10:37:00\n",
              "11 2024-08-30  CO-600  422122   Dennis   10:37:00             12:02:00\n",
              "12 2024-08-30  CO-600  422123   Dennis   12:02:00             14:15:00\n",
              "13 2024-08-30  CO-600  422124   Dennis   14:15:00             15:55:00\n",
              "14 2024-08-30  CO-600  422125  Charlie   15:55:00             17:15:00\n",
              "15 2024-08-30  CO-600  422126  Charlie   17:15:00             18:59:00\n",
              "16 2024-08-30  CO-600  422127  Charlie   18:59:00             20:22:00\n",
              "17 2024-08-30  CO-600  422128  Charlie   20:22:00             22:14:00\n",
              "18 2024-08-30  CO-600  422129  Charlie   22:14:00             23:29:00\n",
              "19 2024-08-31  CO-600  422130      Dee   07:45:00             09:05:00\n",
              "20 2024-08-31  CO-600  422131      Dee   09:05:00             10:35:00\n",
              "21 2024-08-31  CO-600  422132      Dee   10:35:00             11:35:00\n",
              "22 2024-08-31  DC-600  422133      Dee   11:35:00             12:55:00\n",
              "23 2024-08-31  DC-600  422134      Mac   12:55:00             14:45:00\n",
              "24 2024-08-31  DC-600  422135      Mac   14:45:00             16:30:00\n",
              "25 2024-08-31  DC-600  422136      Mac   16:30:00             17:30:00\n",
              "26 2024-09-02  RB-600  422137      Dee   01:00:00             02:45:00\n",
              "27 2024-09-02  RB-600  422138      Dee   02:45:00             04:05:00\n",
              "28 2024-09-02  RB-600  422139      Dee   04:05:00             05:40:00\n",
              "29 2024-09-02  RB-600  422140      Dee   05:40:00             07:43:00\n",
              "30 2024-09-02  RB-600  422141   Dennis   07:43:00             08:50:00\n",
              "31 2024-09-02  RB-600  422142   Dennis   08:50:00             10:20:00\n",
              "32 2024-09-02  RB-600  422143   Dennis   10:20:00             12:18:00\n",
              "33 2024-09-02   CO-2L  422144   Dennis   12:18:00             14:50:00\n",
              "34 2024-09-02   CO-2L  422145  Charlie   14:50:00             16:50:00\n",
              "35 2024-09-02   CO-2L  422146  Charlie   16:50:00             19:30:00\n",
              "36 2024-09-02   CO-2L  422147  Charlie   19:30:00             22:55:00\n",
              "37 2024-09-03   CO-2L  422148      Mac   22:55:00  1900-01-01 01:05:00"
            ]
          },
          "execution_count": 110,
          "metadata": {},
          "output_type": "execute_result"
        }
      ],
      "source": [
        "df=pd.read_excel(\"Manufacturing_Line_Productivity.xlsx\")\n",
        "df"
      ]
    },
    {
      "cell_type": "markdown",
      "metadata": {
        "id": "ksCsYwdPHW9Z"
      },
      "source": [
        "\n",
        "<div style=\"background-color: #2F4F4F; color: white; padding: 10px; text-align: center; font-size: 18px; border-radius: 8px;\">\n",
        "    <b>Display sheet names inside the Excel file</b>\n",
        "</div>\n",
        "\n"
      ]
    },
    {
      "cell_type": "code",
      "execution_count": null,
      "metadata": {
        "id": "_AkPAHG_HW9Z",
        "outputId": "6398ad5a-4317-4c2a-fd69-1403ad37b1d2"
      },
      "outputs": [
        {
          "name": "stdout",
          "output_type": "stream",
          "text": [
            "['Line productivity', 'Sheet1', 'Products', 'Downtime factors', 'Line downtime']\n",
            "        Date Product   Batch Operator Start Time  End Time\n",
            "0 2024-08-29  OR-600  422111      Mac   11:50:00  14:05:00\n",
            "1 2024-08-29  LE-600  422112      Mac   14:05:00  15:45:00\n",
            "2 2024-08-29  LE-600  422113      Mac   15:45:00  17:35:00\n",
            "3 2024-08-29  LE-600  422114      Mac   17:35:00  19:15:00\n",
            "4 2024-08-29  LE-600  422115  Charlie   19:15:00  20:39:00 \n",
            "\n",
            "\n",
            "  Product      Flavor    Size  Min batch time\n",
            "0  OR-600      Orange  600 ml              60\n",
            "1  LE-600  Lemon lime  600 ml              60\n",
            "2  CO-600        Cola  600 ml              60\n",
            "3  DC-600   Diet Cola  600 ml              60\n",
            "4  RB-600  Root Berry  600 ml              60 \n",
            "\n",
            "\n",
            "   Factor         Description Operator Error\n",
            "0       1      Emergency stop             No\n",
            "1       2        Batch change            Yes\n",
            "2       3      Labeling error             No\n",
            "3       4  Inventory shortage             No\n",
            "4       5       Product spill            Yes \n",
            "\n",
            "\n",
            "    Batch   1     2   3     4   5     6     7     8   9    10  11  12\n",
            "0  422111 NaN  60.0 NaN   NaN NaN   NaN  15.0   NaN NaN   NaN NaN NaN\n",
            "1  422112 NaN  20.0 NaN   NaN NaN   NaN   NaN  20.0 NaN   NaN NaN NaN\n",
            "2  422113 NaN  50.0 NaN   NaN NaN   NaN   NaN   NaN NaN   NaN NaN NaN\n",
            "3  422114 NaN   NaN NaN  25.0 NaN  15.0   NaN   NaN NaN   NaN NaN NaN\n",
            "4  422115 NaN   NaN NaN   NaN NaN   NaN   NaN   NaN NaN  24.0 NaN NaN \n",
            "\n",
            "\n",
            "<class 'pandas.core.frame.DataFrame'>\n",
            "RangeIndex: 38 entries, 0 to 37\n",
            "Data columns (total 6 columns):\n",
            " #   Column      Non-Null Count  Dtype         \n",
            "---  ------      --------------  -----         \n",
            " 0   Date        38 non-null     datetime64[ns]\n",
            " 1   Product     38 non-null     object        \n",
            " 2   Batch       38 non-null     int64         \n",
            " 3   Operator    38 non-null     object        \n",
            " 4   Start Time  38 non-null     object        \n",
            " 5   End Time    38 non-null     object        \n",
            "dtypes: datetime64[ns](1), int64(1), object(4)\n",
            "memory usage: 1.9+ KB\n",
            "None \n",
            "\n",
            "\n",
            "<class 'pandas.core.frame.DataFrame'>\n",
            "RangeIndex: 6 entries, 0 to 5\n",
            "Data columns (total 4 columns):\n",
            " #   Column          Non-Null Count  Dtype \n",
            "---  ------          --------------  ----- \n",
            " 0   Product         6 non-null      object\n",
            " 1   Flavor          6 non-null      object\n",
            " 2   Size            6 non-null      object\n",
            " 3   Min batch time  6 non-null      int64 \n",
            "dtypes: int64(1), object(3)\n",
            "memory usage: 320.0+ bytes\n",
            "None \n",
            "\n",
            "\n",
            "<class 'pandas.core.frame.DataFrame'>\n",
            "RangeIndex: 12 entries, 0 to 11\n",
            "Data columns (total 3 columns):\n",
            " #   Column          Non-Null Count  Dtype \n",
            "---  ------          --------------  ----- \n",
            " 0   Factor          12 non-null     int64 \n",
            " 1   Description     12 non-null     object\n",
            " 2   Operator Error  12 non-null     object\n",
            "dtypes: int64(1), object(2)\n",
            "memory usage: 416.0+ bytes\n",
            "None \n",
            "\n",
            "\n"
          ]
        },
        {
          "ename": "KeyError",
          "evalue": "0",
          "output_type": "error",
          "traceback": [
            "\u001b[1;31m---------------------------------------------------------------------------\u001b[0m",
            "\u001b[1;31mKeyError\u001b[0m                                  Traceback (most recent call last)",
            "\u001b[1;32mC:\\ProgramData\\Anaconda3\\lib\\site-packages\\pandas\\core\\indexes\\base.py\u001b[0m in \u001b[0;36mget_loc\u001b[1;34m(self, key, method, tolerance)\u001b[0m\n\u001b[0;32m   2894\u001b[0m             \u001b[1;32mtry\u001b[0m\u001b[1;33m:\u001b[0m\u001b[1;33m\u001b[0m\u001b[1;33m\u001b[0m\u001b[0m\n\u001b[1;32m-> 2895\u001b[1;33m                 \u001b[1;32mreturn\u001b[0m \u001b[0mself\u001b[0m\u001b[1;33m.\u001b[0m\u001b[0m_engine\u001b[0m\u001b[1;33m.\u001b[0m\u001b[0mget_loc\u001b[0m\u001b[1;33m(\u001b[0m\u001b[0mcasted_key\u001b[0m\u001b[1;33m)\u001b[0m\u001b[1;33m\u001b[0m\u001b[1;33m\u001b[0m\u001b[0m\n\u001b[0m\u001b[0;32m   2896\u001b[0m             \u001b[1;32mexcept\u001b[0m \u001b[0mKeyError\u001b[0m \u001b[1;32mas\u001b[0m \u001b[0merr\u001b[0m\u001b[1;33m:\u001b[0m\u001b[1;33m\u001b[0m\u001b[1;33m\u001b[0m\u001b[0m\n",
            "\u001b[1;32mpandas\\_libs\\index.pyx\u001b[0m in \u001b[0;36mpandas._libs.index.IndexEngine.get_loc\u001b[1;34m()\u001b[0m\n",
            "\u001b[1;32mpandas\\_libs\\index.pyx\u001b[0m in \u001b[0;36mpandas._libs.index.IndexEngine.get_loc\u001b[1;34m()\u001b[0m\n",
            "\u001b[1;32mpandas\\_libs\\hashtable_class_helper.pxi\u001b[0m in \u001b[0;36mpandas._libs.hashtable.PyObjectHashTable.get_item\u001b[1;34m()\u001b[0m\n",
            "\u001b[1;32mpandas\\_libs\\hashtable_class_helper.pxi\u001b[0m in \u001b[0;36mpandas._libs.hashtable.PyObjectHashTable.get_item\u001b[1;34m()\u001b[0m\n",
            "\u001b[1;31mKeyError\u001b[0m: 0",
            "\nThe above exception was the direct cause of the following exception:\n",
            "\u001b[1;31mKeyError\u001b[0m                                  Traceback (most recent call last)",
            "\u001b[1;32m<ipython-input-104-0facc0abdef1>\u001b[0m in \u001b[0;36m<module>\u001b[1;34m\u001b[0m\n\u001b[0;32m     16\u001b[0m \u001b[0mprint\u001b[0m\u001b[1;33m(\u001b[0m\u001b[0mProducts\u001b[0m\u001b[1;33m.\u001b[0m\u001b[0minfo\u001b[0m\u001b[1;33m(\u001b[0m\u001b[1;33m)\u001b[0m\u001b[1;33m,\u001b[0m\u001b[1;34m\"\\n\\n\"\u001b[0m\u001b[1;33m)\u001b[0m\u001b[1;33m\u001b[0m\u001b[1;33m\u001b[0m\u001b[0m\n\u001b[0;32m     17\u001b[0m \u001b[0mprint\u001b[0m\u001b[1;33m(\u001b[0m\u001b[0mDowntime_factors\u001b[0m\u001b[1;33m.\u001b[0m\u001b[0minfo\u001b[0m\u001b[1;33m(\u001b[0m\u001b[1;33m)\u001b[0m\u001b[1;33m,\u001b[0m\u001b[1;34m\"\\n\\n\"\u001b[0m\u001b[1;33m)\u001b[0m\u001b[1;33m\u001b[0m\u001b[1;33m\u001b[0m\u001b[0m\n\u001b[1;32m---> 18\u001b[1;33m \u001b[0mprint\u001b[0m\u001b[1;33m(\u001b[0m\u001b[0mLine_downtime\u001b[0m\u001b[1;33m.\u001b[0m\u001b[0minfo\u001b[0m\u001b[1;33m(\u001b[0m\u001b[1;33m)\u001b[0m\u001b[1;33m,\u001b[0m\u001b[1;34m\"\\n\\n\"\u001b[0m\u001b[1;33m)\u001b[0m\u001b[1;33m\u001b[0m\u001b[1;33m\u001b[0m\u001b[0m\n\u001b[0m\u001b[0;32m     19\u001b[0m \u001b[1;33m\u001b[0m\u001b[0m\n\u001b[0;32m     20\u001b[0m \u001b[1;33m\u001b[0m\u001b[0m\n",
            "\u001b[1;32mC:\\ProgramData\\Anaconda3\\lib\\site-packages\\pandas\\core\\frame.py\u001b[0m in \u001b[0;36minfo\u001b[1;34m(self, verbose, buf, max_cols, memory_usage, null_counts)\u001b[0m\n\u001b[0;32m   2587\u001b[0m         \u001b[0mnull_counts\u001b[0m\u001b[1;33m:\u001b[0m \u001b[0mOptional\u001b[0m\u001b[1;33m[\u001b[0m\u001b[0mbool\u001b[0m\u001b[1;33m]\u001b[0m \u001b[1;33m=\u001b[0m \u001b[1;32mNone\u001b[0m\u001b[1;33m,\u001b[0m\u001b[1;33m\u001b[0m\u001b[1;33m\u001b[0m\u001b[0m\n\u001b[0;32m   2588\u001b[0m     ) -> None:\n\u001b[1;32m-> 2589\u001b[1;33m         return DataFrameInfo(\n\u001b[0m\u001b[0;32m   2590\u001b[0m             \u001b[0mself\u001b[0m\u001b[1;33m,\u001b[0m \u001b[0mverbose\u001b[0m\u001b[1;33m,\u001b[0m \u001b[0mbuf\u001b[0m\u001b[1;33m,\u001b[0m \u001b[0mmax_cols\u001b[0m\u001b[1;33m,\u001b[0m \u001b[0mmemory_usage\u001b[0m\u001b[1;33m,\u001b[0m \u001b[0mnull_counts\u001b[0m\u001b[1;33m\u001b[0m\u001b[1;33m\u001b[0m\u001b[0m\n\u001b[0;32m   2591\u001b[0m         ).info()\n",
            "\u001b[1;32mC:\\ProgramData\\Anaconda3\\lib\\site-packages\\pandas\\io\\formats\\info.py\u001b[0m in \u001b[0;36minfo\u001b[1;34m(self)\u001b[0m\n\u001b[0;32m    248\u001b[0m                 \u001b[0mself\u001b[0m\u001b[1;33m.\u001b[0m\u001b[0m_non_verbose_repr\u001b[0m\u001b[1;33m(\u001b[0m\u001b[0mlines\u001b[0m\u001b[1;33m,\u001b[0m \u001b[0mids\u001b[0m\u001b[1;33m)\u001b[0m\u001b[1;33m\u001b[0m\u001b[1;33m\u001b[0m\u001b[0m\n\u001b[0;32m    249\u001b[0m             \u001b[1;32melse\u001b[0m\u001b[1;33m:\u001b[0m\u001b[1;33m\u001b[0m\u001b[1;33m\u001b[0m\u001b[0m\n\u001b[1;32m--> 250\u001b[1;33m                 \u001b[0mself\u001b[0m\u001b[1;33m.\u001b[0m\u001b[0m_verbose_repr\u001b[0m\u001b[1;33m(\u001b[0m\u001b[0mlines\u001b[0m\u001b[1;33m,\u001b[0m \u001b[0mids\u001b[0m\u001b[1;33m,\u001b[0m \u001b[0mdtypes\u001b[0m\u001b[1;33m,\u001b[0m \u001b[0mshow_counts\u001b[0m\u001b[1;33m)\u001b[0m\u001b[1;33m\u001b[0m\u001b[1;33m\u001b[0m\u001b[0m\n\u001b[0m\u001b[0;32m    251\u001b[0m \u001b[1;33m\u001b[0m\u001b[0m\n\u001b[0;32m    252\u001b[0m         \u001b[1;31m# groupby dtype.name to collect e.g. Categorical columns\u001b[0m\u001b[1;33m\u001b[0m\u001b[1;33m\u001b[0m\u001b[1;33m\u001b[0m\u001b[0m\n",
            "\u001b[1;32mC:\\ProgramData\\Anaconda3\\lib\\site-packages\\pandas\\io\\formats\\info.py\u001b[0m in \u001b[0;36m_verbose_repr\u001b[1;34m(self, lines, ids, dtypes, show_counts)\u001b[0m\n\u001b[0;32m    333\u001b[0m \u001b[1;33m\u001b[0m\u001b[0m\n\u001b[0;32m    334\u001b[0m         \u001b[1;32mfor\u001b[0m \u001b[0mi\u001b[0m\u001b[1;33m,\u001b[0m \u001b[0mcol\u001b[0m \u001b[1;32min\u001b[0m \u001b[0menumerate\u001b[0m\u001b[1;33m(\u001b[0m\u001b[0mids\u001b[0m\u001b[1;33m)\u001b[0m\u001b[1;33m:\u001b[0m\u001b[1;33m\u001b[0m\u001b[1;33m\u001b[0m\u001b[0m\n\u001b[1;32m--> 335\u001b[1;33m             \u001b[0mdtype\u001b[0m \u001b[1;33m=\u001b[0m \u001b[0mdtypes\u001b[0m\u001b[1;33m[\u001b[0m\u001b[0mi\u001b[0m\u001b[1;33m]\u001b[0m\u001b[1;33m\u001b[0m\u001b[1;33m\u001b[0m\u001b[0m\n\u001b[0m\u001b[0;32m    336\u001b[0m             \u001b[0mcol\u001b[0m \u001b[1;33m=\u001b[0m \u001b[0mpprint_thing\u001b[0m\u001b[1;33m(\u001b[0m\u001b[0mcol\u001b[0m\u001b[1;33m)\u001b[0m\u001b[1;33m\u001b[0m\u001b[1;33m\u001b[0m\u001b[0m\n\u001b[0;32m    337\u001b[0m \u001b[1;33m\u001b[0m\u001b[0m\n",
            "\u001b[1;32mC:\\ProgramData\\Anaconda3\\lib\\site-packages\\pandas\\core\\series.py\u001b[0m in \u001b[0;36m__getitem__\u001b[1;34m(self, key)\u001b[0m\n\u001b[0;32m    880\u001b[0m \u001b[1;33m\u001b[0m\u001b[0m\n\u001b[0;32m    881\u001b[0m         \u001b[1;32melif\u001b[0m \u001b[0mkey_is_scalar\u001b[0m\u001b[1;33m:\u001b[0m\u001b[1;33m\u001b[0m\u001b[1;33m\u001b[0m\u001b[0m\n\u001b[1;32m--> 882\u001b[1;33m             \u001b[1;32mreturn\u001b[0m \u001b[0mself\u001b[0m\u001b[1;33m.\u001b[0m\u001b[0m_get_value\u001b[0m\u001b[1;33m(\u001b[0m\u001b[0mkey\u001b[0m\u001b[1;33m)\u001b[0m\u001b[1;33m\u001b[0m\u001b[1;33m\u001b[0m\u001b[0m\n\u001b[0m\u001b[0;32m    883\u001b[0m \u001b[1;33m\u001b[0m\u001b[0m\n\u001b[0;32m    884\u001b[0m         \u001b[1;32mif\u001b[0m \u001b[0mis_hashable\u001b[0m\u001b[1;33m(\u001b[0m\u001b[0mkey\u001b[0m\u001b[1;33m)\u001b[0m\u001b[1;33m:\u001b[0m\u001b[1;33m\u001b[0m\u001b[1;33m\u001b[0m\u001b[0m\n",
            "\u001b[1;32mC:\\ProgramData\\Anaconda3\\lib\\site-packages\\pandas\\core\\series.py\u001b[0m in \u001b[0;36m_get_value\u001b[1;34m(self, label, takeable)\u001b[0m\n\u001b[0;32m    987\u001b[0m \u001b[1;33m\u001b[0m\u001b[0m\n\u001b[0;32m    988\u001b[0m         \u001b[1;31m# Similar to Index.get_value, but we do not fall back to positional\u001b[0m\u001b[1;33m\u001b[0m\u001b[1;33m\u001b[0m\u001b[1;33m\u001b[0m\u001b[0m\n\u001b[1;32m--> 989\u001b[1;33m         \u001b[0mloc\u001b[0m \u001b[1;33m=\u001b[0m \u001b[0mself\u001b[0m\u001b[1;33m.\u001b[0m\u001b[0mindex\u001b[0m\u001b[1;33m.\u001b[0m\u001b[0mget_loc\u001b[0m\u001b[1;33m(\u001b[0m\u001b[0mlabel\u001b[0m\u001b[1;33m)\u001b[0m\u001b[1;33m\u001b[0m\u001b[1;33m\u001b[0m\u001b[0m\n\u001b[0m\u001b[0;32m    990\u001b[0m         \u001b[1;32mreturn\u001b[0m \u001b[0mself\u001b[0m\u001b[1;33m.\u001b[0m\u001b[0mindex\u001b[0m\u001b[1;33m.\u001b[0m\u001b[0m_get_values_for_loc\u001b[0m\u001b[1;33m(\u001b[0m\u001b[0mself\u001b[0m\u001b[1;33m,\u001b[0m \u001b[0mloc\u001b[0m\u001b[1;33m,\u001b[0m \u001b[0mlabel\u001b[0m\u001b[1;33m)\u001b[0m\u001b[1;33m\u001b[0m\u001b[1;33m\u001b[0m\u001b[0m\n\u001b[0;32m    991\u001b[0m \u001b[1;33m\u001b[0m\u001b[0m\n",
            "\u001b[1;32mC:\\ProgramData\\Anaconda3\\lib\\site-packages\\pandas\\core\\indexes\\base.py\u001b[0m in \u001b[0;36mget_loc\u001b[1;34m(self, key, method, tolerance)\u001b[0m\n\u001b[0;32m   2895\u001b[0m                 \u001b[1;32mreturn\u001b[0m \u001b[0mself\u001b[0m\u001b[1;33m.\u001b[0m\u001b[0m_engine\u001b[0m\u001b[1;33m.\u001b[0m\u001b[0mget_loc\u001b[0m\u001b[1;33m(\u001b[0m\u001b[0mcasted_key\u001b[0m\u001b[1;33m)\u001b[0m\u001b[1;33m\u001b[0m\u001b[1;33m\u001b[0m\u001b[0m\n\u001b[0;32m   2896\u001b[0m             \u001b[1;32mexcept\u001b[0m \u001b[0mKeyError\u001b[0m \u001b[1;32mas\u001b[0m \u001b[0merr\u001b[0m\u001b[1;33m:\u001b[0m\u001b[1;33m\u001b[0m\u001b[1;33m\u001b[0m\u001b[0m\n\u001b[1;32m-> 2897\u001b[1;33m                 \u001b[1;32mraise\u001b[0m \u001b[0mKeyError\u001b[0m\u001b[1;33m(\u001b[0m\u001b[0mkey\u001b[0m\u001b[1;33m)\u001b[0m \u001b[1;32mfrom\u001b[0m \u001b[0merr\u001b[0m\u001b[1;33m\u001b[0m\u001b[1;33m\u001b[0m\u001b[0m\n\u001b[0m\u001b[0;32m   2898\u001b[0m \u001b[1;33m\u001b[0m\u001b[0m\n\u001b[0;32m   2899\u001b[0m         \u001b[1;32mif\u001b[0m \u001b[0mtolerance\u001b[0m \u001b[1;32mis\u001b[0m \u001b[1;32mnot\u001b[0m \u001b[1;32mNone\u001b[0m\u001b[1;33m:\u001b[0m\u001b[1;33m\u001b[0m\u001b[1;33m\u001b[0m\u001b[0m\n",
            "\u001b[1;31mKeyError\u001b[0m: 0"
          ]
        }
      ],
      "source": [
        "xls = pd.ExcelFile('Manufacturing_Line_Productivity.xlsx')\n",
        "print(xls.sheet_names)\n",
        "\n",
        "Line_productivity = pd.read_excel(xls, sheet_name=\"Line productivity\")\n",
        "Products = pd.read_excel(xls, sheet_name=\"Products\")\n",
        "Downtime_factors = pd.read_excel(xls, sheet_name=\"Downtime factors\")\n",
        "Line_downtime= pd.read_excel(xls, sheet_name=\"Line downtime\")\n",
        "\n",
        "\n",
        "print(Line_productivity.head(),\"\\n\\n\")\n",
        "print(Products.head(),\"\\n\\n\")\n",
        "print(Downtime_factors.head(),\"\\n\\n\")\n",
        "print(Line_downtime.head(),\"\\n\\n\")\n",
        "\n",
        "print(Line_productivity.info(),\"\\n\\n\")\n",
        "print(Products.info(),\"\\n\\n\")\n",
        "print(Downtime_factors.info(),\"\\n\\n\")\n",
        "print(Line_downtime.info(),\"\\n\\n\")\n",
        "\n",
        "\n"
      ]
    },
    {
      "cell_type": "markdown",
      "metadata": {
        "id": "rND8eoLXHW9Z"
      },
      "source": [
        "\n",
        "<div style=\"background-color: #2F4F4F; color: white; padding: 10px; text-align: center; font-size: 18px; border-radius: 8px;\">\n",
        "    <b>Unpivot table</b>\n",
        "</div>\n",
        "\n"
      ]
    },
    {
      "cell_type": "code",
      "execution_count": null,
      "metadata": {
        "id": "0VQd_UOJHW9Z",
        "outputId": "110b02ff-b150-44e9-f9df-c7bcdec1e7e5"
      },
      "outputs": [
        {
          "data": {
            "text/html": [
              "<div>\n",
              "<style scoped>\n",
              "    .dataframe tbody tr th:only-of-type {\n",
              "        vertical-align: middle;\n",
              "    }\n",
              "\n",
              "    .dataframe tbody tr th {\n",
              "        vertical-align: top;\n",
              "    }\n",
              "\n",
              "    .dataframe thead th {\n",
              "        text-align: right;\n",
              "    }\n",
              "</style>\n",
              "<table border=\"1\" class=\"dataframe\">\n",
              "  <thead>\n",
              "    <tr style=\"text-align: right;\">\n",
              "      <th></th>\n",
              "      <th>Batch</th>\n",
              "      <th>Factor</th>\n",
              "      <th>Downtime</th>\n",
              "    </tr>\n",
              "  </thead>\n",
              "  <tbody>\n",
              "    <tr>\n",
              "      <th>38</th>\n",
              "      <td>422111</td>\n",
              "      <td>2</td>\n",
              "      <td>60.0</td>\n",
              "    </tr>\n",
              "    <tr>\n",
              "      <th>39</th>\n",
              "      <td>422112</td>\n",
              "      <td>2</td>\n",
              "      <td>20.0</td>\n",
              "    </tr>\n",
              "    <tr>\n",
              "      <th>40</th>\n",
              "      <td>422113</td>\n",
              "      <td>2</td>\n",
              "      <td>50.0</td>\n",
              "    </tr>\n",
              "    <tr>\n",
              "      <th>44</th>\n",
              "      <td>422117</td>\n",
              "      <td>2</td>\n",
              "      <td>10.0</td>\n",
              "    </tr>\n",
              "    <tr>\n",
              "      <th>57</th>\n",
              "      <td>422130</td>\n",
              "      <td>2</td>\n",
              "      <td>20.0</td>\n",
              "    </tr>\n",
              "    <tr>\n",
              "      <th>...</th>\n",
              "      <td>...</td>\n",
              "      <td>...</td>\n",
              "      <td>...</td>\n",
              "    </tr>\n",
              "    <tr>\n",
              "      <th>432</th>\n",
              "      <td>422125</td>\n",
              "      <td>12</td>\n",
              "      <td>10.0</td>\n",
              "    </tr>\n",
              "    <tr>\n",
              "      <th>436</th>\n",
              "      <td>422129</td>\n",
              "      <td>12</td>\n",
              "      <td>15.0</td>\n",
              "    </tr>\n",
              "    <tr>\n",
              "      <th>442</th>\n",
              "      <td>422135</td>\n",
              "      <td>12</td>\n",
              "      <td>15.0</td>\n",
              "    </tr>\n",
              "    <tr>\n",
              "      <th>448</th>\n",
              "      <td>422141</td>\n",
              "      <td>12</td>\n",
              "      <td>7.0</td>\n",
              "    </tr>\n",
              "    <tr>\n",
              "      <th>453</th>\n",
              "      <td>422146</td>\n",
              "      <td>12</td>\n",
              "      <td>7.0</td>\n",
              "    </tr>\n",
              "  </tbody>\n",
              "</table>\n",
              "<p>61 rows × 3 columns</p>\n",
              "</div>"
            ],
            "text/plain": [
              "      Batch Factor  Downtime\n",
              "38   422111      2      60.0\n",
              "39   422112      2      20.0\n",
              "40   422113      2      50.0\n",
              "44   422117      2      10.0\n",
              "57   422130      2      20.0\n",
              "..      ...    ...       ...\n",
              "432  422125     12      10.0\n",
              "436  422129     12      15.0\n",
              "442  422135     12      15.0\n",
              "448  422141     12       7.0\n",
              "453  422146     12       7.0\n",
              "\n",
              "[61 rows x 3 columns]"
            ]
          },
          "execution_count": 105,
          "metadata": {},
          "output_type": "execute_result"
        }
      ],
      "source": [
        "Line_downtime = Line_downtime.melt(\n",
        "    id_vars=[\"Batch\"],\n",
        "    var_name=\"Factor\",\n",
        "    value_name=\"Downtime\"\n",
        ")\n",
        "\n",
        "Line_downtime.dropna(inplace=True)\n",
        "Line_downtime\n"
      ]
    },
    {
      "cell_type": "markdown",
      "metadata": {
        "id": "1FjUiVbLHW9a"
      },
      "source": [
        "\n",
        "<div style=\"background-color: #2F4F4F; color: white; padding: 10px; text-align: center; font-size: 18px; border-radius: 8px;\">\n",
        "    <b>Calculate downtime duration between start and end time</b>\n",
        "</div>\n",
        "\n"
      ]
    },
    {
      "cell_type": "code",
      "execution_count": null,
      "metadata": {
        "id": "ngCCwXwlHW9a",
        "outputId": "536ca3ec-5b58-4c93-fc0e-f4e235c1f5c5"
      },
      "outputs": [
        {
          "name": "stdout",
          "output_type": "stream",
          "text": [
            "           Start Time            End Time  Duration Time of Day\n",
            "0 1900-01-01 01:05:00 1900-01-01 02:05:00      60.0     Morning\n",
            "1 1900-01-01 02:15:00 1900-01-01 03:25:00      70.0     Morning\n"
          ]
        }
      ],
      "source": [
        "import pandas as pd\n",
        "\n",
        "df = pd.DataFrame({\n",
        "    'Start Time': ['01:05:00', '02:15:00'],\n",
        "    'End Time': ['02:05:00', '03:25:00']\n",
        "})\n",
        "\n",
        "df['Start Time'] = pd.to_datetime('1900-01-01 ' + df['Start Time'])\n",
        "df['End Time'] = pd.to_datetime('1900-01-01 ' + df['End Time'])\n",
        "\n",
        "df['Duration'] = (df['End Time'] - df['Start Time']).dt.total_seconds() / 60\n",
        "\n",
        "df['Time of Day'] = df['Start Time'].dt.hour.apply(lambda x: 'Morning' if x < 12 else 'Evening')\n",
        "\n",
        "print(df)"
      ]
    },
    {
      "cell_type": "markdown",
      "metadata": {
        "id": "uDy66cveHW9a"
      },
      "source": [
        "\n",
        "\n",
        "<div style=\"background-color: #2F4F4F; color: white; padding: 10px; text-align: center; font-size: 18px; border-radius: 8px;\">\n",
        "    <b>Identify the day with the highest number of downtime occurrences</b>\n",
        "</div>\n",
        "\n"
      ]
    },
    {
      "cell_type": "code",
      "execution_count": null,
      "metadata": {
        "id": "c-_Tl30YHW9a",
        "outputId": "0fdef4aa-88eb-456a-ac03-4a0167d24451"
      },
      "outputs": [
        {
          "name": "stdout",
          "output_type": "stream",
          "text": [
            "The day with the highest downtime occurrence: 2024-08-30 00:00:00\n",
            "The number of downtimes on this day: 12\n"
          ]
        }
      ],
      "source": [
        "most_downtime_day = Line_productivity['Date'].value_counts().idxmax()\n",
        "most_downtime_count = Line_productivity['Date'].value_counts().max()\n",
        "\n",
        "print(f\"The day with the highest downtime occurrence: {most_downtime_day}\")\n",
        "print(f\"The number of downtimes on this day: {most_downtime_count}\")\n"
      ]
    },
    {
      "cell_type": "markdown",
      "metadata": {
        "id": "lRxbw2FEHW9a"
      },
      "source": [
        "\n",
        "<div style=\"background-color: #2F4F4F; color: white; padding: 10px; text-align: center; font-size: 18px; border-radius: 8px;\">\n",
        "    <b>Merge downtime data with product and flavor information to analyze downtime by flavor</b>\n",
        "</div>\n",
        "\n"
      ]
    },
    {
      "cell_type": "code",
      "execution_count": null,
      "metadata": {
        "id": "ePS0o5xHHW9a",
        "outputId": "137e28a8-e43e-426e-fb4b-60286c30de86"
      },
      "outputs": [
        {
          "name": "stdout",
          "output_type": "stream",
          "text": [
            "Flavor with Most Downtime: Cola (771.00 minutes)\n"
          ]
        },
        {
          "data": {
            "image/png": "[encoded data removed]",
            "text/plain": [
              "<Figure size 720x360 with 1 Axes>"
            ]
          },
          "metadata": {
            "needs_background": "light"
          },
          "output_type": "display_data"
        }
      ],
      "source": [
        "merged_data = Line_downtime.merge(Line_productivity[['Batch', 'Product']], on='Batch', how='left')\n",
        "\n",
        "merged_data = merged_data.merge(Products[['Product', 'Flavor']], on='Product', how='left')\n",
        "\n",
        "downtime_per_flavor = merged_data.groupby(\"Flavor\")[\"Downtime\"].sum().reset_index()\n",
        "\n",
        "downtime_per_flavor = downtime_per_flavor.sort_values(by=\"Downtime\", ascending=False)\n",
        "\n",
        "most_problematic_flavor = downtime_per_flavor.iloc[0]\n",
        "print(f\"Flavor with Most Downtime: {most_problematic_flavor['Flavor']} ({most_problematic_flavor['Downtime']:.2f} minutes)\")\n",
        "\n",
        "\n",
        "plt.figure(figsize=(10, 5))\n",
        "sns.barplot(data=downtime_per_flavor, x=\"Flavor\", y=\"Downtime\", palette=\"viridis\")\n",
        "\n",
        "plt.xlabel(\"Flavor\")\n",
        "plt.ylabel(\"Total Downtime (minutes)\")\n",
        "plt.title(\"Total Downtime per Flavor\")\n",
        "plt.xticks(rotation=45)\n",
        "\n",
        "plt.show()"
      ]
    },
    {
      "cell_type": "markdown",
      "metadata": {
        "id": "9goPaykqHW9b"
      },
      "source": [
        "\n",
        "<div style=\"background-color: #2F4F4F; color: white; padding: 10px; text-align: center; font-size: 18px; border-radius: 8px;\">\n",
        "    <b>Identify the product with the most downtime and visualize the total downtime for each product</b>\n",
        "</div>\n",
        "\n"
      ]
    },
    {
      "cell_type": "code",
      "execution_count": null,
      "metadata": {
        "id": "Agjw1tFyHW9b",
        "outputId": "b4abcf8c-12bc-43fb-9a86-bff0eb5d263c"
      },
      "outputs": [
        {
          "name": "stdout",
          "output_type": "stream",
          "text": [
            "Product with Most Downtime: CO-600 (494.00 minutes)\n"
          ]
        },
        {
          "data": {
            "image/png": "[encoded data removed]",
            "text/plain": [
              "<Figure size 720x432 with 1 Axes>"
            ]
          },
          "metadata": {
            "needs_background": "light"
          },
          "output_type": "display_data"
        }
      ],
      "source": [
        "most_problematic_product = downtime_per_product.iloc[0]\n",
        "print(f\"Product with Most Downtime: {most_problematic_product['Product']} ({most_problematic_product['Downtime']:.2f} minutes)\")\n",
        "plt.figure(figsize=(10, 6))\n",
        "plt.bar(downtime_per_product[\"Product\"], downtime_per_product[\"Downtime\"], color='royalblue')\n",
        "\n",
        "plt.xlabel(\"Product\")\n",
        "plt.ylabel(\"Total Downtime (minutes)\")\n",
        "plt.title(\"Total Downtime per Product\")\n",
        "plt.xticks(rotation=45, ha=\"right\")\n",
        "\n",
        "plt.show()"
      ]
    },
    {
      "cell_type": "markdown",
      "metadata": {
        "id": "wyyDi81uHW9b"
      },
      "source": [
        "\n",
        "<div style=\"background-color: #2F4F4F; color: white; padding: 10px; text-align: center; font-size: 18px; border-radius: 8px;\">\n",
        "    <b>Extract and display the top 5 factors that contribute to the most downtime</b>\n",
        "</div>\n",
        "\n"
      ]
    },
    {
      "cell_type": "code",
      "execution_count": null,
      "metadata": {
        "id": "Q6ThbSx4HW9b",
        "outputId": "be1e0530-72e4-4b71-a0f8-242488153415"
      },
      "outputs": [
        {
          "name": "stdout",
          "output_type": "stream",
          "text": [
            "Machine Failure       332.0\n",
            "Power Outage          254.0\n",
            "Inventory Shortage    225.0\n",
            "Batch Change          160.0\n",
            "Raw Material Delay    145.0\n"
          ]
        }
      ],
      "source": [
        "factor_descriptions = {\n",
        "    1: \"Emergency Stop\", 2: \"Batch Change\", 3: \"Labeling Error\", 4: \"Inventory Shortage\",\n",
        "    5: \"Product Spill\", 6: \"Machine Failure\", 7: \"Power Outage\", 8: \"Raw Material Delay\",\n",
        "    9: \"Operator Error\", 10: \"Maintenance\", 11: \"Quality Check Failure\", 12: \"Other\"\n",
        "}\n",
        "\n",
        "predicted_issues = Line_downtime.groupby(\"Factor\")[\"Downtime\"].sum().rename(index=factor_descriptions).sort_values(ascending=False).head()\n",
        "\n",
        "print(predicted_issues.to_string(index=True, header=False))\n"
      ]
    },
    {
      "cell_type": "markdown",
      "metadata": {
        "id": "8Gt7s_EzHW9b"
      },
      "source": [
        "\n",
        "<div style=\"background-color: #2F4F4F; color: white; padding: 10px; text-align: center; font-size: 18px; border-radius: 8px;\">\n",
        "    <b>most Common Downtime Factor</b>\n",
        "</div>\n",
        "\n"
      ]
    },
    {
      "cell_type": "code",
      "execution_count": null,
      "metadata": {
        "id": "vXUx75d5HW9b",
        "outputId": "3e2f4699-9f05-462c-e015-cd9cf9fd2cf6"
      },
      "outputs": [
        {
          "name": "stdout",
          "output_type": "stream",
          "text": [
            "Most Common Downtime Factor: Machine adjustment (12 occurrences)\n"
          ]
        }
      ],
      "source": [
        "merged_data = Line_downtime.merge(Downtime_factors, on=\"Factor\", how=\"left\")\n",
        "\n",
        "factor_counts = merged_data[\"Description\"].value_counts().reset_index()\n",
        "factor_counts.columns = [\"Downtime Factor\", \"Count\"]\n",
        "\n",
        "most_common_factor = factor_counts.iloc[0]\n",
        "\n",
        "print(f\"Most Common Downtime Factor: {most_common_factor['Downtime Factor']} ({most_common_factor['Count']} occurrences)\")"
      ]
    },
    {
      "cell_type": "markdown",
      "metadata": {
        "id": "y6QwtggaHW9b"
      },
      "source": [
        "\n",
        "\n",
        "<div style=\"background-color: #2F4F4F; color: white; padding: 10px; text-align: center; font-size: 18px; border-radius: 8px;\">\n",
        "    <b>Flavor with Most Downtime\n",
        "\n",
        "</b>\n",
        "</div>\n",
        "\n"
      ]
    },
    {
      "cell_type": "code",
      "execution_count": null,
      "metadata": {
        "id": "5VVF6xvqHW9b",
        "outputId": "845a3774-6072-49a0-fea2-4604c3eae21e"
      },
      "outputs": [
        {
          "name": "stdout",
          "output_type": "stream",
          "text": [
            "Flavor with Most Downtime: Cola (771.00 minutes)\n"
          ]
        }
      ],
      "source": [
        "\n",
        "\n",
        "Line_productivity = pd.read_excel(xls, sheet_name=\"Line productivity\")\n",
        "Products = pd.read_excel(xls, sheet_name=\"Products\")\n",
        "Downtime_factors = pd.read_excel(xls, sheet_name=\"Downtime factors\")\n",
        "Line_downtime = pd.read_excel(xls, sheet_name=\"Line downtime\")\n",
        "\n",
        "Line_downtime = Line_downtime.melt(id_vars=[\"Batch\"], var_name=\"Factor\", value_name=\"Downtime\")\n",
        "Line_downtime.dropna(inplace=True)\n",
        "\n",
        "merged_data = Line_downtime.merge(Downtime_factors, on=\"Factor\", how=\"left\")\n",
        "\n",
        "merged_data = merged_data.merge(Line_productivity[['Batch', 'Product']], on=\"Batch\", how=\"left\")\n",
        "\n",
        "merged_data = merged_data.merge(Products[['Product', 'Flavor']], on=\"Product\", how=\"left\")\n",
        "\n",
        "downtime_per_flavor = merged_data.groupby(\"Flavor\")[\"Downtime\"].sum().reset_index()\n",
        "\n",
        "most_problematic_flavor = downtime_per_flavor.loc[downtime_per_flavor[\"Downtime\"].idxmax()]\n",
        "\n",
        "print(f\"Flavor with Most Downtime: {most_problematic_flavor['Flavor']} ({most_problematic_flavor['Downtime']:.2f} minutes)\")\n",
        "\n"
      ]
    },
    {
      "cell_type": "markdown",
      "metadata": {
        "id": "FezUPNwOHW9c"
      },
      "source": [
        "\n",
        "\n",
        "<div style=\"background-color: #2F4F4F; color: white; padding: 10px; text-align: center; font-size: 18px; border-radius: 8px;\">\n",
        "    <b>Factor with Highest Total Downtime\n",
        "\n",
        "</b>\n",
        "</div>\n"
      ]
    },
    {
      "cell_type": "code",
      "execution_count": null,
      "metadata": {
        "id": "1_BgAwoNHW9c",
        "outputId": "0d2687f3-00ae-4bfa-ed37-c5d8b8b7ca57"
      },
      "outputs": [
        {
          "name": "stdout",
          "output_type": "stream",
          "text": [
            "Factor with Highest Total Downtime: Machine adjustment (332.0 minutes)\n"
          ]
        },
        {
          "data": {
            "image/png": "[encoded data removed]",
            "text/plain": [
              "<Figure size 864x432 with 1 Axes>"
            ]
          },
          "metadata": {
            "needs_background": "light"
          },
          "output_type": "display_data"
        }
      ],
      "source": [
        "\n",
        "merged_data = Line_downtime.merge(Downtime_factors, on=\"Factor\", how=\"left\")\n",
        "\n",
        "factor_downtime = merged_data.groupby(\"Description\")[\"Downtime\"].sum().reset_index()\n",
        "\n",
        "factor_downtime = factor_downtime.sort_values(by=\"Downtime\", ascending=False)\n",
        "\n",
        "most_downtime_factor = factor_downtime.iloc[0]\n",
        "\n",
        "print(f\"Factor with Highest Total Downtime: {most_downtime_factor['Description']} ({most_downtime_factor['Downtime']} minutes)\")\n",
        "\n",
        "plt.figure(figsize=(12, 6))\n",
        "plt.bar(factor_downtime[\"Description\"], factor_downtime[\"Downtime\"], color='tomato')\n",
        "\n",
        "plt.xlabel(\"Downtime Factor\", fontsize=12)\n",
        "plt.ylabel(\"Total Downtime (minutes)\", fontsize=12)\n",
        "plt.title(\"Downtime Factors by Total Downtime\", fontsize=14, fontweight=\"bold\")\n",
        "\n",
        "plt.xticks(rotation=45, ha=\"right\", fontsize=10)\n",
        "\n",
        "plt.show()"
      ]
    },
    {
      "cell_type": "markdown",
      "metadata": {
        "id": "QA_E1-p5HW9c"
      },
      "source": [
        "\n",
        "<div style=\"background-color: #2F4F4F; color: white; padding: 10px; text-align: center; font-size: 18px; border-radius: 8px;\">\n",
        "    <b>Most Produced Product\n",
        "\n",
        "</b>\n",
        "</div>\n"
      ]
    },
    {
      "cell_type": "code",
      "execution_count": null,
      "metadata": {
        "id": "g0Jx3cMRHW9c",
        "outputId": "310fae0e-a699-4fe4-d3f8-b565bcc69bc3"
      },
      "outputs": [
        {
          "name": "stdout",
          "output_type": "stream",
          "text": [
            "Most Produced Product: CO-600\n"
          ]
        }
      ],
      "source": [
        "most_produced_product = Line_productivity[\"Product\"].value_counts().idxmax()\n",
        "\n",
        "print(f\"Most Produced Product: {most_produced_product}\")\n"
      ]
    },
    {
      "cell_type": "markdown",
      "metadata": {
        "id": "4zT7HuiQHW9c"
      },
      "source": [
        "\n",
        "\n",
        "<div style=\"background-color: #2F4F4F; color: white; padding: 10px; text-align: center; font-size: 18px; border-radius: 8px;\">\n",
        "    <b>Most Active Production Day\n",
        "\n",
        "</b>\n",
        "</div>\n",
        "\n"
      ]
    },
    {
      "cell_type": "code",
      "execution_count": null,
      "metadata": {
        "id": "4WnBCAYHHW9c",
        "outputId": "06148152-80c0-4df3-b198-327fdf0aac6a"
      },
      "outputs": [
        {
          "name": "stdout",
          "output_type": "stream",
          "text": [
            "Most Active Production Day: 2024-08-30\n"
          ]
        }
      ],
      "source": [
        "\n",
        "most_active_day = Line_productivity[\"Date\"].value_counts().idxmax()\n",
        "\n",
        "print(f\"Most Active Production Day: {most_active_day.strftime('%Y-%m-%d')}\")\n"
      ]
    },
    {
      "cell_type": "markdown",
      "metadata": {
        "id": "L6P_dgzGHW9c"
      },
      "source": [
        "\n",
        "<div style=\"background-color: #2F4F4F; color: white; padding: 10px; text-align: center; font-size: 18px; border-radius: 8px;\">\n",
        "    <b>Most Produced Flavor\n",
        "\n",
        "</b>\n",
        "</div>\n",
        "\n"
      ]
    },
    {
      "cell_type": "code",
      "execution_count": null,
      "metadata": {
        "id": "EEKX9dhFHW9c",
        "outputId": "90dbe950-ec07-4895-ca4f-83c36e2afc50"
      },
      "outputs": [
        {
          "name": "stdout",
          "output_type": "stream",
          "text": [
            "Most Produced Flavor: Cola\n"
          ]
        }
      ],
      "source": [
        "merged_data = Line_productivity.merge(Products[['Product', 'Flavor']], on='Product', how='left')\n",
        "\n",
        "most_produced_flavor = merged_data[\"Flavor\"].value_counts().idxmax()\n",
        "\n",
        "print(f\"Most Produced Flavor: {most_produced_flavor}\")\n"
      ]
    },
    {
      "cell_type": "markdown",
      "metadata": {
        "id": "_jl1AE0gHW9d"
      },
      "source": [
        "\n",
        "\n",
        "<div style=\"background-color: #2F4F4F; color: white; padding: 10px; text-align: center; font-size: 18px; border-radius: 8px;\">\n",
        "    <b>Operator with the Highest Productivity\n",
        "\n",
        "</b>\n",
        "</div>\n"
      ]
    },
    {
      "cell_type": "code",
      "execution_count": null,
      "metadata": {
        "id": "D77o_qCSHW9d",
        "outputId": "8b0f94b1-90cb-4a15-e336-b7bcddd2e52a"
      },
      "outputs": [
        {
          "name": "stdout",
          "output_type": "stream",
          "text": [
            "Most Active Operator: Charlie\n"
          ]
        },
        {
          "data": {
            "image/png": "[encoded data removed]",
            "text/plain": [
              "<Figure size 864x432 with 1 Axes>"
            ]
          },
          "metadata": {
            "needs_background": "light"
          },
          "output_type": "display_data"
        }
      ],
      "source": [
        "most_active_operator = Line_productivity[\"Operator\"].value_counts().idxmax()\n",
        "\n",
        "print(f\"Most Active Operator: {most_active_operator}\")\n",
        "\n",
        "operator_counts = Line_productivity[\"Operator\"].value_counts()\n",
        "\n",
        "plt.figure(figsize=(12, 6))\n",
        "operator_counts.plot(kind=\"bar\", color='royalblue')\n",
        "\n",
        "plt.xlabel(\"Operator\")\n",
        "plt.ylabel(\"Number of Batches Processed\")\n",
        "plt.title(\"Most Active Operators\")\n",
        "plt.xticks(rotation=45)\n",
        "\n",
        "plt.show()\n"
      ]
    },
    {
      "cell_type": "markdown",
      "metadata": {
        "id": "78ZncFmaHW9d"
      },
      "source": [
        "\n",
        "<div style=\"background-color: #2F4F4F; color: white; padding: 10px; text-align: center; font-size: 20px; border-radius: 8px;\">\n",
        "    <b>PREDICTION\n",
        "\n",
        "</b>\n",
        "</div>\n"
      ]
    },
    {
      "cell_type": "code",
      "execution_count": null,
      "metadata": {
        "id": "jm_OreTIHW9d",
        "outputId": "98783021-d702-444e-a770-b77547f03aa7"
      },
      "outputs": [
        {
          "name": "stdout",
          "output_type": "stream",
          "text": [
            "Predicted Number of Batches for Next Day: 8\n"
          ]
        }
      ],
      "source": [
        "batches_per_day = Line_productivity.groupby(\"Date\")[\"Batch\"].nunique()\n",
        "\n",
        "predicted_batches = batches_per_day.mean()\n",
        "\n",
        "print(f\"Predicted Number of Batches for Next Day: {predicted_batches:.0f}\")\n"
      ]
    },
    {
      "cell_type": "code",
      "execution_count": null,
      "metadata": {
        "id": "ntqMVhrqHW9d",
        "outputId": "1f132adb-a452-4370-dadc-849236706d2a"
      },
      "outputs": [
        {
          "name": "stdout",
          "output_type": "stream",
          "text": [
            "Predicted Downtime for Next Day: 39.66 minutes\n"
          ]
        }
      ],
      "source": [
        "daily_downtime = Line_downtime.groupby(\"Batch\")[\"Downtime\"].sum()\n",
        "\n",
        "predicted_downtime = daily_downtime.mean()\n",
        "\n",
        "print(f\"Predicted Downtime for Next Day: {predicted_downtime:.2f} minutes\")\n"
      ]
    },
    {
      "cell_type": "code",
      "execution_count": null,
      "metadata": {
        "id": "2t5Rt5YbHW9d",
        "outputId": "06e12e4b-0884-4100-ddad-896ff194104b"
      },
      "outputs": [
        {
          "name": "stdout",
          "output_type": "stream",
          "text": [
            " Expected number of stops: 2 \n"
          ]
        }
      ],
      "source": [
        "downtime_counts_per_day = Line_downtime.groupby(\"Batch\")[\"Factor\"].count()\n",
        "predicted_downtime_events = round(downtime_counts_per_day.mean())\n",
        "print(f\" Expected number of stops: {predicted_downtime_events} \")\n"
      ]
    },
    {
      "cell_type": "code",
      "execution_count": null,
      "metadata": {
        "id": "ppgYvmDIHW9e",
        "outputId": "8fad2083-fb3c-4d4a-d5c0-e4d06a6de225"
      },
      "outputs": [
        {
          "name": "stdout",
          "output_type": "stream",
          "text": [
            " The most expected reason to stop: Machine adjustment\n"
          ]
        }
      ],
      "source": [
        "merged_data = Line_downtime.merge(Downtime_factors, on=\"Factor\", how=\"left\")\n",
        "top_cause = merged_data.groupby(\"Description\")[\"Downtime\"].sum().sort_values(ascending=False).idxmax()\n",
        "print(f\" The most expected reason to stop: {top_cause}\")\n"
      ]
    }
  ],
  "metadata": {
    "kernelspec": {
      "display_name": "Python 3",
      "language": "python",
      "name": "python3"
    },
    "language_info": {
      "codemirror_mode": {
        "name": "ipython",
        "version": 3
      },
      "file_extension": ".py",
      "mimetype": "text/x-python",
      "name": "python",
      "nbconvert_exporter": "python",
      "pygments_lexer": "ipython3",
      "version": "3.8.5"
    },
    "colab": {
      "provenance": [],
      "include_colab_link": true
    }
  },
  "nbformat": 4,
  "nbformat_minor": 0
}